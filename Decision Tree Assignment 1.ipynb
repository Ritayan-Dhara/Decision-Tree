{
 "cells": [
  {
   "cell_type": "code",
   "execution_count": 76,
   "metadata": {},
   "outputs": [],
   "source": [
    "import numpy as np\n",
    "import pandas as pd"
   ]
  },
  {
   "cell_type": "code",
   "execution_count": 77,
   "metadata": {},
   "outputs": [
    {
     "data": {
      "text/plain": [
       "1.0"
      ]
     },
     "execution_count": 77,
     "metadata": {},
     "output_type": "execute_result"
    }
   ],
   "source": [
    "np.log(np.e)"
   ]
  },
  {
   "cell_type": "code",
   "execution_count": 78,
   "metadata": {},
   "outputs": [],
   "source": [
    "tennis=pd.read_csv('play_tennis.csv')\n",
    "iris=pd.read_csv('Iris.csv')"
   ]
  },
  {
   "cell_type": "code",
   "execution_count": 79,
   "metadata": {},
   "outputs": [
    {
     "data": {
      "text/html": [
       "<div>\n",
       "<style scoped>\n",
       "    .dataframe tbody tr th:only-of-type {\n",
       "        vertical-align: middle;\n",
       "    }\n",
       "\n",
       "    .dataframe tbody tr th {\n",
       "        vertical-align: top;\n",
       "    }\n",
       "\n",
       "    .dataframe thead th {\n",
       "        text-align: right;\n",
       "    }\n",
       "</style>\n",
       "<table border=\"1\" class=\"dataframe\">\n",
       "  <thead>\n",
       "    <tr style=\"text-align: right;\">\n",
       "      <th></th>\n",
       "      <th>day</th>\n",
       "      <th>outlook</th>\n",
       "      <th>temp</th>\n",
       "      <th>humidity</th>\n",
       "      <th>wind</th>\n",
       "      <th>play</th>\n",
       "    </tr>\n",
       "  </thead>\n",
       "  <tbody>\n",
       "    <tr>\n",
       "      <td>0</td>\n",
       "      <td>D1</td>\n",
       "      <td>Sunny</td>\n",
       "      <td>Hot</td>\n",
       "      <td>High</td>\n",
       "      <td>Weak</td>\n",
       "      <td>No</td>\n",
       "    </tr>\n",
       "    <tr>\n",
       "      <td>1</td>\n",
       "      <td>D2</td>\n",
       "      <td>Sunny</td>\n",
       "      <td>Hot</td>\n",
       "      <td>High</td>\n",
       "      <td>Strong</td>\n",
       "      <td>No</td>\n",
       "    </tr>\n",
       "    <tr>\n",
       "      <td>2</td>\n",
       "      <td>D3</td>\n",
       "      <td>Overcast</td>\n",
       "      <td>Hot</td>\n",
       "      <td>High</td>\n",
       "      <td>Weak</td>\n",
       "      <td>Yes</td>\n",
       "    </tr>\n",
       "    <tr>\n",
       "      <td>3</td>\n",
       "      <td>D4</td>\n",
       "      <td>Rain</td>\n",
       "      <td>Mild</td>\n",
       "      <td>High</td>\n",
       "      <td>Weak</td>\n",
       "      <td>Yes</td>\n",
       "    </tr>\n",
       "    <tr>\n",
       "      <td>4</td>\n",
       "      <td>D5</td>\n",
       "      <td>Rain</td>\n",
       "      <td>Cool</td>\n",
       "      <td>Normal</td>\n",
       "      <td>Weak</td>\n",
       "      <td>Yes</td>\n",
       "    </tr>\n",
       "    <tr>\n",
       "      <td>5</td>\n",
       "      <td>D6</td>\n",
       "      <td>Rain</td>\n",
       "      <td>Cool</td>\n",
       "      <td>Normal</td>\n",
       "      <td>Strong</td>\n",
       "      <td>No</td>\n",
       "    </tr>\n",
       "    <tr>\n",
       "      <td>6</td>\n",
       "      <td>D7</td>\n",
       "      <td>Overcast</td>\n",
       "      <td>Cool</td>\n",
       "      <td>Normal</td>\n",
       "      <td>Strong</td>\n",
       "      <td>Yes</td>\n",
       "    </tr>\n",
       "    <tr>\n",
       "      <td>7</td>\n",
       "      <td>D8</td>\n",
       "      <td>Sunny</td>\n",
       "      <td>Mild</td>\n",
       "      <td>High</td>\n",
       "      <td>Weak</td>\n",
       "      <td>No</td>\n",
       "    </tr>\n",
       "    <tr>\n",
       "      <td>8</td>\n",
       "      <td>D9</td>\n",
       "      <td>Sunny</td>\n",
       "      <td>Cool</td>\n",
       "      <td>Normal</td>\n",
       "      <td>Weak</td>\n",
       "      <td>Yes</td>\n",
       "    </tr>\n",
       "    <tr>\n",
       "      <td>9</td>\n",
       "      <td>D10</td>\n",
       "      <td>Rain</td>\n",
       "      <td>Mild</td>\n",
       "      <td>Normal</td>\n",
       "      <td>Weak</td>\n",
       "      <td>Yes</td>\n",
       "    </tr>\n",
       "    <tr>\n",
       "      <td>10</td>\n",
       "      <td>D11</td>\n",
       "      <td>Sunny</td>\n",
       "      <td>Mild</td>\n",
       "      <td>Normal</td>\n",
       "      <td>Strong</td>\n",
       "      <td>Yes</td>\n",
       "    </tr>\n",
       "    <tr>\n",
       "      <td>11</td>\n",
       "      <td>D12</td>\n",
       "      <td>Overcast</td>\n",
       "      <td>Mild</td>\n",
       "      <td>High</td>\n",
       "      <td>Strong</td>\n",
       "      <td>Yes</td>\n",
       "    </tr>\n",
       "    <tr>\n",
       "      <td>12</td>\n",
       "      <td>D13</td>\n",
       "      <td>Overcast</td>\n",
       "      <td>Hot</td>\n",
       "      <td>Normal</td>\n",
       "      <td>Weak</td>\n",
       "      <td>Yes</td>\n",
       "    </tr>\n",
       "    <tr>\n",
       "      <td>13</td>\n",
       "      <td>D14</td>\n",
       "      <td>Rain</td>\n",
       "      <td>Mild</td>\n",
       "      <td>High</td>\n",
       "      <td>Strong</td>\n",
       "      <td>No</td>\n",
       "    </tr>\n",
       "  </tbody>\n",
       "</table>\n",
       "</div>"
      ],
      "text/plain": [
       "    day   outlook  temp humidity    wind play\n",
       "0    D1     Sunny   Hot     High    Weak   No\n",
       "1    D2     Sunny   Hot     High  Strong   No\n",
       "2    D3  Overcast   Hot     High    Weak  Yes\n",
       "3    D4      Rain  Mild     High    Weak  Yes\n",
       "4    D5      Rain  Cool   Normal    Weak  Yes\n",
       "5    D6      Rain  Cool   Normal  Strong   No\n",
       "6    D7  Overcast  Cool   Normal  Strong  Yes\n",
       "7    D8     Sunny  Mild     High    Weak   No\n",
       "8    D9     Sunny  Cool   Normal    Weak  Yes\n",
       "9   D10      Rain  Mild   Normal    Weak  Yes\n",
       "10  D11     Sunny  Mild   Normal  Strong  Yes\n",
       "11  D12  Overcast  Mild     High  Strong  Yes\n",
       "12  D13  Overcast   Hot   Normal    Weak  Yes\n",
       "13  D14      Rain  Mild     High  Strong   No"
      ]
     },
     "execution_count": 79,
     "metadata": {},
     "output_type": "execute_result"
    }
   ],
   "source": [
    "tennis"
   ]
  },
  {
   "cell_type": "code",
   "execution_count": 80,
   "metadata": {},
   "outputs": [
    {
     "data": {
      "text/plain": [
       "{'outlook': 0.17103394188032706,\n",
       " 'temp': 0.02025553899523236,\n",
       " 'humidity': 0.10524434967821283,\n",
       " 'wind': 0.033359115436214726}"
      ]
     },
     "execution_count": 80,
     "metadata": {},
     "output_type": "execute_result"
    }
   ],
   "source": [
    "parent_entropy=sum([-i*np.log(i) for i in tennis['play'].value_counts()/tennis.shape[0]])\n",
    "info_gain=dict()\n",
    "\n",
    "for column in tennis.columns[1:-1]:\n",
    "    entropy=[]\n",
    "    weight=[]\n",
    "    \n",
    "    for unique in tennis[column].unique():\n",
    "        entropy.append(sum([-i*np.log(i) for i in tennis[tennis[column]==unique]['play'].value_counts()/tennis[tennis[column]==unique].shape[0]]))\n",
    "        weight.append(tennis[tennis[column]==unique].shape[0]/tennis.shape[0])\n",
    "        \n",
    "    np.multiply(entropy,weight)\n",
    "    info_gain[column]=parent_entropy-sum(np.multiply(entropy,weight))\n",
    "info_gain"
   ]
  },
  {
   "cell_type": "code",
   "execution_count": null,
   "metadata": {},
   "outputs": [],
   "source": []
  },
  {
   "cell_type": "code",
   "execution_count": 81,
   "metadata": {},
   "outputs": [
    {
     "data": {
      "text/html": [
       "<div>\n",
       "<style scoped>\n",
       "    .dataframe tbody tr th:only-of-type {\n",
       "        vertical-align: middle;\n",
       "    }\n",
       "\n",
       "    .dataframe tbody tr th {\n",
       "        vertical-align: top;\n",
       "    }\n",
       "\n",
       "    .dataframe thead th {\n",
       "        text-align: right;\n",
       "    }\n",
       "</style>\n",
       "<table border=\"1\" class=\"dataframe\">\n",
       "  <thead>\n",
       "    <tr style=\"text-align: right;\">\n",
       "      <th></th>\n",
       "      <th>Id</th>\n",
       "      <th>SepalLengthCm</th>\n",
       "      <th>SepalWidthCm</th>\n",
       "      <th>PetalLengthCm</th>\n",
       "      <th>PetalWidthCm</th>\n",
       "      <th>Species</th>\n",
       "    </tr>\n",
       "  </thead>\n",
       "  <tbody>\n",
       "    <tr>\n",
       "      <td>22</td>\n",
       "      <td>23</td>\n",
       "      <td>4.6</td>\n",
       "      <td>3.6</td>\n",
       "      <td>1.0</td>\n",
       "      <td>0.2</td>\n",
       "      <td>Iris-setosa</td>\n",
       "    </tr>\n",
       "    <tr>\n",
       "      <td>13</td>\n",
       "      <td>14</td>\n",
       "      <td>4.3</td>\n",
       "      <td>3.0</td>\n",
       "      <td>1.1</td>\n",
       "      <td>0.1</td>\n",
       "      <td>Iris-setosa</td>\n",
       "    </tr>\n",
       "    <tr>\n",
       "      <td>14</td>\n",
       "      <td>15</td>\n",
       "      <td>5.8</td>\n",
       "      <td>4.0</td>\n",
       "      <td>1.2</td>\n",
       "      <td>0.2</td>\n",
       "      <td>Iris-setosa</td>\n",
       "    </tr>\n",
       "    <tr>\n",
       "      <td>35</td>\n",
       "      <td>36</td>\n",
       "      <td>5.0</td>\n",
       "      <td>3.2</td>\n",
       "      <td>1.2</td>\n",
       "      <td>0.2</td>\n",
       "      <td>Iris-setosa</td>\n",
       "    </tr>\n",
       "    <tr>\n",
       "      <td>36</td>\n",
       "      <td>37</td>\n",
       "      <td>5.5</td>\n",
       "      <td>3.5</td>\n",
       "      <td>1.3</td>\n",
       "      <td>0.2</td>\n",
       "      <td>Iris-setosa</td>\n",
       "    </tr>\n",
       "    <tr>\n",
       "      <td>...</td>\n",
       "      <td>...</td>\n",
       "      <td>...</td>\n",
       "      <td>...</td>\n",
       "      <td>...</td>\n",
       "      <td>...</td>\n",
       "      <td>...</td>\n",
       "    </tr>\n",
       "    <tr>\n",
       "      <td>131</td>\n",
       "      <td>132</td>\n",
       "      <td>7.9</td>\n",
       "      <td>3.8</td>\n",
       "      <td>6.4</td>\n",
       "      <td>2.0</td>\n",
       "      <td>Iris-virginica</td>\n",
       "    </tr>\n",
       "    <tr>\n",
       "      <td>105</td>\n",
       "      <td>106</td>\n",
       "      <td>7.6</td>\n",
       "      <td>3.0</td>\n",
       "      <td>6.6</td>\n",
       "      <td>2.1</td>\n",
       "      <td>Iris-virginica</td>\n",
       "    </tr>\n",
       "    <tr>\n",
       "      <td>117</td>\n",
       "      <td>118</td>\n",
       "      <td>7.7</td>\n",
       "      <td>3.8</td>\n",
       "      <td>6.7</td>\n",
       "      <td>2.2</td>\n",
       "      <td>Iris-virginica</td>\n",
       "    </tr>\n",
       "    <tr>\n",
       "      <td>122</td>\n",
       "      <td>123</td>\n",
       "      <td>7.7</td>\n",
       "      <td>2.8</td>\n",
       "      <td>6.7</td>\n",
       "      <td>2.0</td>\n",
       "      <td>Iris-virginica</td>\n",
       "    </tr>\n",
       "    <tr>\n",
       "      <td>118</td>\n",
       "      <td>119</td>\n",
       "      <td>7.7</td>\n",
       "      <td>2.6</td>\n",
       "      <td>6.9</td>\n",
       "      <td>2.3</td>\n",
       "      <td>Iris-virginica</td>\n",
       "    </tr>\n",
       "  </tbody>\n",
       "</table>\n",
       "<p>150 rows × 6 columns</p>\n",
       "</div>"
      ],
      "text/plain": [
       "      Id  SepalLengthCm  SepalWidthCm  PetalLengthCm  PetalWidthCm  \\\n",
       "22    23            4.6           3.6            1.0           0.2   \n",
       "13    14            4.3           3.0            1.1           0.1   \n",
       "14    15            5.8           4.0            1.2           0.2   \n",
       "35    36            5.0           3.2            1.2           0.2   \n",
       "36    37            5.5           3.5            1.3           0.2   \n",
       "..   ...            ...           ...            ...           ...   \n",
       "131  132            7.9           3.8            6.4           2.0   \n",
       "105  106            7.6           3.0            6.6           2.1   \n",
       "117  118            7.7           3.8            6.7           2.2   \n",
       "122  123            7.7           2.8            6.7           2.0   \n",
       "118  119            7.7           2.6            6.9           2.3   \n",
       "\n",
       "            Species  \n",
       "22      Iris-setosa  \n",
       "13      Iris-setosa  \n",
       "14      Iris-setosa  \n",
       "35      Iris-setosa  \n",
       "36      Iris-setosa  \n",
       "..              ...  \n",
       "131  Iris-virginica  \n",
       "105  Iris-virginica  \n",
       "117  Iris-virginica  \n",
       "122  Iris-virginica  \n",
       "118  Iris-virginica  \n",
       "\n",
       "[150 rows x 6 columns]"
      ]
     },
     "execution_count": 81,
     "metadata": {},
     "output_type": "execute_result"
    }
   ],
   "source": [
    "iris.sort_values(by='PetalLengthCm',inplace=True)\n",
    "iris"
   ]
  },
  {
   "cell_type": "code",
   "execution_count": 82,
   "metadata": {
    "scrolled": false
   },
   "outputs": [
    {
     "data": {
      "text/plain": [
       "{1.0: 0.007368925763855394,\n",
       " 1.1: 0.014829172330138585,\n",
       " 1.2: 0.030033875414081868,\n",
       " 1.3: 0.08654114224614062,\n",
       " 1.4: 0.19846652829937905,\n",
       " 1.5: 0.36762441317024375,\n",
       " 1.6: 0.48280104455013506,\n",
       " 1.7: 0.5708880749943686,\n",
       " 1.9: 0.6365141682948128,\n",
       " 3.0: 0.6083557734545781,\n",
       " 3.3: 0.5738298777087836,\n",
       " 3.5: 0.5487967703668577,\n",
       " 3.6: 0.5383976022416942,\n",
       " 3.7: 0.5290762982094618,\n",
       " 3.8: 0.5206770429611144,\n",
       " 3.9: 0.49998635614757925,\n",
       " 4.0: 0.4769733143948972,\n",
       " 4.1: 0.46858904960369663,\n",
       " 4.2: 0.4628103300330144,\n",
       " 4.3: 0.4620981203732968,\n",
       " 4.4: 0.4649602832666839,\n",
       " 4.5: 0.4499611899497512,\n",
       " 4.6: 0.46469597543888563,\n",
       " 4.7: 0.5021697266465265,\n",
       " 4.8: 0.4724565131247582,\n",
       " 4.9: 0.438117862765954,\n",
       " 5.0: 0.40314245075086574,\n",
       " 5.1: 0.32626067487019494,\n",
       " 5.2: 0.3005336653214238,\n",
       " 5.3: 0.2760652012017689,\n",
       " 5.4: 0.2527100690630446,\n",
       " 5.5: 0.21951214867965607,\n",
       " 5.6: 0.15864598561813148,\n",
       " 5.7: 0.13053245657705592,\n",
       " 5.8: 0.10373813181609481,\n",
       " 5.9: 0.08654114224614062,\n",
       " 6.0: 0.06983636023057316,\n",
       " 6.1: 0.045635817309936266,\n",
       " 6.3: 0.037783754878081055,\n",
       " 6.4: 0.030033875414081868,\n",
       " 6.6: 0.022383272446196978,\n",
       " 6.7: 0.007368925763855394}"
      ]
     },
     "execution_count": 82,
     "metadata": {},
     "output_type": "execute_result"
    }
   ],
   "source": [
    "parent_entropy=sum([-i*np.log(i) for i in iris['Species'].value_counts()/iris.shape[0]])\n",
    "info_gain=dict()\n",
    "for val in iris['PetalLengthCm'][:-1]:\n",
    "    df_lower=iris[iris['PetalLengthCm']<=val]\n",
    "    df_higher=iris[iris['PetalLengthCm']>val]\n",
    "    \n",
    "    e1=sum([-i*np.log(i) for i in df_lower['Species'].value_counts()/df_lower['Species'].shape[0]])\n",
    "    e2=sum([-i*np.log(i) for i in df_higher['Species'].value_counts()/df_higher['Species'].shape[0]])\n",
    "    \n",
    "    info_gain[val]=parent_entropy-((df_lower.shape[0]/iris.shape[0])*e1+(df_higher.shape[0]/iris.shape[0])*e2)\n",
    "info_gain"
   ]
  },
  {
   "cell_type": "code",
   "execution_count": 83,
   "metadata": {},
   "outputs": [
    {
     "data": {
      "text/html": [
       "<div>\n",
       "<style scoped>\n",
       "    .dataframe tbody tr th:only-of-type {\n",
       "        vertical-align: middle;\n",
       "    }\n",
       "\n",
       "    .dataframe tbody tr th {\n",
       "        vertical-align: top;\n",
       "    }\n",
       "\n",
       "    .dataframe thead th {\n",
       "        text-align: right;\n",
       "    }\n",
       "</style>\n",
       "<table border=\"1\" class=\"dataframe\">\n",
       "  <thead>\n",
       "    <tr style=\"text-align: right;\">\n",
       "      <th></th>\n",
       "      <th>Id</th>\n",
       "      <th>SepalLengthCm</th>\n",
       "      <th>SepalWidthCm</th>\n",
       "      <th>PetalLengthCm</th>\n",
       "      <th>PetalWidthCm</th>\n",
       "      <th>Species</th>\n",
       "    </tr>\n",
       "  </thead>\n",
       "  <tbody>\n",
       "    <tr>\n",
       "      <td>118</td>\n",
       "      <td>119</td>\n",
       "      <td>7.7</td>\n",
       "      <td>2.6</td>\n",
       "      <td>6.9</td>\n",
       "      <td>2.3</td>\n",
       "      <td>Iris-virginica</td>\n",
       "    </tr>\n",
       "  </tbody>\n",
       "</table>\n",
       "</div>"
      ],
      "text/plain": [
       "      Id  SepalLengthCm  SepalWidthCm  PetalLengthCm  PetalWidthCm  \\\n",
       "118  119            7.7           2.6            6.9           2.3   \n",
       "\n",
       "            Species  \n",
       "118  Iris-virginica  "
      ]
     },
     "execution_count": 83,
     "metadata": {},
     "output_type": "execute_result"
    }
   ],
   "source": [
    "df_higher"
   ]
  },
  {
   "cell_type": "code",
   "execution_count": 84,
   "metadata": {},
   "outputs": [
    {
     "data": {
      "text/plain": [
       "1.0"
      ]
     },
     "execution_count": 84,
     "metadata": {},
     "output_type": "execute_result"
    }
   ],
   "source": [
    "iris['PetalLengthCm'][22]"
   ]
  },
  {
   "cell_type": "code",
   "execution_count": 85,
   "metadata": {},
   "outputs": [
    {
     "data": {
      "text/plain": [
       "22    1.0\n",
       "13    1.1\n",
       "14    1.2\n",
       "35    1.2\n",
       "36    1.3\n",
       "40    1.3\n",
       "38    1.3\n",
       "42    1.3\n",
       "2     1.3\n",
       "41    1.3\n",
       "16    1.3\n",
       "17    1.4\n",
       "45    1.4\n",
       "33    1.4\n",
       "28    1.4\n",
       "47    1.4\n",
       "49    1.4\n",
       "0     1.4\n",
       "4     1.4\n",
       "1     1.4\n",
       "12    1.4\n",
       "6     1.4\n",
       "8     1.4\n",
       "34    1.5\n",
       "10    1.5\n",
       "32    1.5\n",
       "31    1.5\n",
       "15    1.5\n",
       "27    1.5\n",
       "9     1.5\n",
       "7     1.5\n",
       "3     1.5\n",
       "48    1.5\n",
       "21    1.5\n",
       "19    1.5\n",
       "39    1.5\n",
       "37    1.5\n",
       "30    1.6\n",
       "29    1.6\n",
       "11    1.6\n",
       "26    1.6\n",
       "25    1.6\n",
       "46    1.6\n",
       "43    1.6\n",
       "18    1.7\n",
       "5     1.7\n",
       "23    1.7\n",
       "20    1.7\n",
       "24    1.9\n",
       "44    1.9\n",
       "Name: PetalLengthCm, dtype: float64"
      ]
     },
     "execution_count": 85,
     "metadata": {},
     "output_type": "execute_result"
    }
   ],
   "source": [
    "iris['PetalLengthCm'][:50]"
   ]
  },
  {
   "cell_type": "code",
   "execution_count": 86,
   "metadata": {},
   "outputs": [
    {
     "data": {
      "text/plain": [
       "43"
      ]
     },
     "execution_count": 86,
     "metadata": {},
     "output_type": "execute_result"
    }
   ],
   "source": [
    "iris['PetalLengthCm'].nunique()"
   ]
  },
  {
   "cell_type": "code",
   "execution_count": 87,
   "metadata": {},
   "outputs": [
    {
     "data": {
      "text/plain": [
       "22     3.6\n",
       "13     3.0\n",
       "14     4.0\n",
       "35     3.2\n",
       "36     3.5\n",
       "      ... \n",
       "131    3.8\n",
       "105    3.0\n",
       "117    3.8\n",
       "122    2.8\n",
       "118    2.6\n",
       "Name: SepalWidthCm, Length: 150, dtype: float64"
      ]
     },
     "execution_count": 87,
     "metadata": {},
     "output_type": "execute_result"
    }
   ],
   "source": [
    "iris['SepalWidthCm']"
   ]
  },
  {
   "cell_type": "code",
   "execution_count": null,
   "metadata": {},
   "outputs": [],
   "source": []
  }
 ],
 "metadata": {
  "kernelspec": {
   "display_name": "Python 3",
   "language": "python",
   "name": "python3"
  },
  "language_info": {
   "codemirror_mode": {
    "name": "ipython",
    "version": 3
   },
   "file_extension": ".py",
   "mimetype": "text/x-python",
   "name": "python",
   "nbconvert_exporter": "python",
   "pygments_lexer": "ipython3",
   "version": "3.7.4"
  }
 },
 "nbformat": 4,
 "nbformat_minor": 2
}
